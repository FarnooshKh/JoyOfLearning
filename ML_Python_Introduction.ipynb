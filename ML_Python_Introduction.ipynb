{
  "nbformat": 4,
  "nbformat_minor": 0,
  "metadata": {
    "colab": {
      "name": "ML_Python_Introduction.ipynb",
      "version": "0.3.2",
      "provenance": [],
      "collapsed_sections": [],
      "include_colab_link": true
    },
    "kernelspec": {
      "name": "python3",
      "display_name": "Python 3"
    }
  },
  "cells": [
    {
      "cell_type": "markdown",
      "metadata": {
        "id": "view-in-github",
        "colab_type": "text"
      },
      "source": [
        "<a href=\"https://colab.research.google.com/github/FarnooshKh/JoyOfLearning/blob/master/ML_Python_Introduction.ipynb\" target=\"_parent\"><img src=\"https://colab.research.google.com/assets/colab-badge.svg\" alt=\"Open In Colab\"/></a>"
      ]
    },
    {
      "metadata": {
        "id": "i23RmeGm4GvY",
        "colab_type": "text"
      },
      "cell_type": "markdown",
      "source": [
        "# Machine learning Python Introduction\n",
        "\n",
        "In this colab you learn to work with python and machine learning models\n",
        "\n",
        "\n",
        "\n",
        "*   KNN (K Nearest Neighbor) \n",
        "*   PCA (Principal Component Analysis)\n",
        "\n",
        "\n",
        "\n",
        "---\n",
        "\n",
        "\n",
        "\n"
      ]
    },
    {
      "metadata": {
        "id": "To0iWtlHJWPe",
        "colab_type": "text"
      },
      "cell_type": "markdown",
      "source": [
        "\n",
        "\n",
        "\n",
        "\n",
        "\n",
        "\n",
        "Import **numpy** which is the fundamental package for scientific computing with Python.\n",
        "\n",
        "\n",
        "*  mainly useful for its N-dimensional array objects\n",
        "\n",
        "\n",
        "\n",
        "\n",
        "Import **pandas** which is an open source library providing high-performance, easy-to-use data structures and data analysis tools for the Python programming language."
      ]
    },
    {
      "metadata": {
        "id": "RkavSLmBoBE3",
        "colab_type": "code",
        "colab": {}
      },
      "cell_type": "code",
      "source": [
        "import numpy as np\n",
        "import pandas as pd"
      ],
      "execution_count": 0,
      "outputs": []
    },
    {
      "metadata": {
        "id": "823rW-QYofPU",
        "colab_type": "text"
      },
      "cell_type": "markdown",
      "source": [
        "To make sure that every single line will be  printed, even if they're in the same cell, we can use the following config:"
      ]
    },
    {
      "metadata": {
        "id": "H1rVke7zoXxM",
        "colab_type": "code",
        "colab": {}
      },
      "cell_type": "code",
      "source": [
        "from IPython.core.interactiveshell import InteractiveShell\n",
        "InteractiveShell.ast_node_interactivity = \"all\""
      ],
      "execution_count": 0,
      "outputs": []
    },
    {
      "metadata": {
        "id": "1y2FD1XJ8T3i",
        "colab_type": "text"
      },
      "cell_type": "markdown",
      "source": [
        "\n",
        "## breast_cancer DataSet\n",
        "\n",
        "Features are computed from a digitized image of a fine needle aspirate (FNA) of a breast mass. They describe characteristics of the cell nuclei present in the image. \n",
        "\n",
        "The breast cancer dataset is a classic and very easy binary classification dataset.\n",
        "\n",
        " **data : Bunch**\n",
        "\n",
        "Dictionary-like object, \n",
        "*  the interesting attributes are: ‘data’\n",
        "*  the data to learn, ‘target’, \n",
        "*  the classification labels, ‘target_names’\n",
        "*  the meaning of the labels, ‘feature_names’\n",
        "*  the meaning of the features, and ‘DESCR’, the full description of the dataset\n",
        "*  ‘filename’, the physical location of breast cancer csv dataset (added in version 0.20).\n",
        "\n",
        "\n",
        "#### load data from sklearn data sets\n",
        "\n",
        "scikit-learn - the machine learning algorithms used for data analysis and data mining tasks\n"
      ]
    },
    {
      "metadata": {
        "id": "VpnLz5c51Lq2",
        "colab_type": "code",
        "colab": {}
      },
      "cell_type": "code",
      "source": [
        "from sklearn.datasets import load_breast_cancer\n",
        "data = load_breast_cancer()"
      ],
      "execution_count": 0,
      "outputs": []
    },
    {
      "metadata": {
        "id": "2-univG61YbU",
        "colab_type": "code",
        "outputId": "3ee03e58-281a-43a9-aab4-ceb158477282",
        "colab": {
          "base_uri": "https://localhost:8080/",
          "height": 34
        }
      },
      "cell_type": "code",
      "source": [
        "df = pd.read_csv(data.filename)\n",
        "data.data.shape\n",
        "list(data.target_names)\n",
        "data.target.sum()\n"
      ],
      "execution_count": 13,
      "outputs": [
        {
          "output_type": "execute_result",
          "data": {
            "text/plain": [
              "(569, 30)"
            ]
          },
          "metadata": {
            "tags": []
          },
          "execution_count": 13
        },
        {
          "output_type": "execute_result",
          "data": {
            "text/plain": [
              "['malignant', 'benign']"
            ]
          },
          "metadata": {
            "tags": []
          },
          "execution_count": 13
        },
        {
          "output_type": "execute_result",
          "data": {
            "text/plain": [
              "357"
            ]
          },
          "metadata": {
            "tags": []
          },
          "execution_count": 13
        }
      ]
    },
    {
      "metadata": {
        "id": "phb4vRQm9jUa",
        "colab_type": "text"
      },
      "cell_type": "markdown",
      "source": [
        "## Splitting data to training and testing sets\n",
        "\n",
        "To investigate performance of our model, we need to split the data to training and testing sets. This will help us to check potential overfitting in our model training.\n",
        "\n",
        "**random_state** as the name suggests, is used for initializing the internal random number generator, which will decide the splitting of data into train and test indices in your case."
      ]
    },
    {
      "metadata": {
        "id": "czRPFHbi9mgh",
        "colab_type": "code",
        "colab": {}
      },
      "cell_type": "code",
      "source": [
        "from sklearn.model_selection import train_test_split\n",
        "\n",
        "X_train, X_test, y_train, y_test = train_test_split(data.data, data.target, test_size=0.4, random_state=5)"
      ],
      "execution_count": 0,
      "outputs": []
    },
    {
      "metadata": {
        "id": "T18GQ3dArCsh",
        "colab_type": "text"
      },
      "cell_type": "markdown",
      "source": [
        "\n",
        "\n",
        "# Building classification models\n",
        "\n",
        "Among the available classification methods in Python, we focus on the following five to build classification models of tissue type of the cancer cell lines in our dataset:\n",
        "\n",
        "* Logistic regression\n",
        "* **K- nearest neighbour **\n",
        "* Naive Bayes\n",
        "* Random forest\n",
        "* Support vector machine"
      ]
    },
    {
      "metadata": {
        "id": "dYZKd0aAPPGZ",
        "colab_type": "text"
      },
      "cell_type": "markdown",
      "source": [
        "# K nearest neighbour(k-NN)\n",
        "\n",
        "K nearest neighbour uses a distance metric like Euclidean distance to identity similarity of target data point (sample) in test or validation set to the data points (samples) in the trainign set. Then based on the user specified k, it finds the k closest points (samples) to the target data point. Afterward, it chooses the most frequent label among the k closes points (majority voting) as the class label of the target sample. The class labels can be also assigned based on weighted voting of the k closest data points to the data point.\n",
        "\n",
        "**Note.** The k nearest neighbour is non-parametric.\n"
      ]
    },
    {
      "metadata": {
        "id": "xTqwSBCzMUMy",
        "colab_type": "code",
        "outputId": "222d14c5-4445-40fb-851f-d0736b48c7be",
        "colab": {
          "base_uri": "https://localhost:8080/",
          "height": 68
        }
      },
      "cell_type": "code",
      "source": [
        "from sklearn.neighbors import KNeighborsClassifier\n",
        "\n",
        "# Initialize our classifier\n",
        "knn = KNeighborsClassifier(n_neighbors=10)\n",
        "\n",
        "# Fitting the model with the data\n",
        "knn.fit(X_train, y_train)"
      ],
      "execution_count": 7,
      "outputs": [
        {
          "output_type": "execute_result",
          "data": {
            "text/plain": [
              "KNeighborsClassifier(algorithm='auto', leaf_size=30, metric='minkowski',\n",
              "           metric_params=None, n_jobs=None, n_neighbors=10, p=2,\n",
              "           weights='uniform')"
            ]
          },
          "metadata": {
            "tags": []
          },
          "execution_count": 7
        }
      ]
    },
    {
      "metadata": {
        "id": "16xM3v69PhAo",
        "colab_type": "code",
        "outputId": "00128d28-4b35-4ff8-f76b-a311c6011ee5",
        "colab": {
          "base_uri": "https://localhost:8080/",
          "height": 136
        }
      },
      "cell_type": "code",
      "source": [
        "y_pred = knn.predict(X_test)\n",
        "print(y_pred)"
      ],
      "execution_count": 8,
      "outputs": [
        {
          "output_type": "stream",
          "text": [
            "[0 1 1 1 1 0 1 1 1 1 1 1 0 1 1 1 1 1 1 1 0 1 1 1 1 1 0 0 1 0 0 0 0 0 1 1 0\n",
            " 1 1 0 1 1 1 0 1 1 0 0 1 0 1 1 1 1 1 0 0 0 1 0 0 0 1 1 1 0 1 1 1 0 1 0 1 1\n",
            " 1 1 1 1 0 0 0 1 0 0 0 1 0 1 0 0 0 0 1 1 0 0 1 1 1 1 1 0 1 1 0 0 1 0 1 0 1\n",
            " 0 1 0 1 1 0 1 0 1 1 1 0 1 0 1 0 1 1 0 1 1 1 1 1 0 1 1 1 1 1 1 1 0 1 1 1 0\n",
            " 1 1 1 0 1 1 1 0 1 1 1 1 1 1 1 1 0 0 1 1 1 1 1 0 1 0 1 1 1 1 1 0 1 1 1 0 1\n",
            " 0 1 1 1 0 0 0 1 1 0 1 1 1 0 0 0 0 1 1 1 0 1 1 0 1 1 1 1 1 1 0 1 1 1 1 1 1\n",
            " 1 0 0 1 1 1]\n"
          ],
          "name": "stdout"
        }
      ]
    },
    {
      "metadata": {
        "id": "MWGxNRhCfqZv",
        "colab_type": "text"
      },
      "cell_type": "markdown",
      "source": [
        "# Performance measures\n",
        "\n",
        "To assess performance of the machine learning model, we can use one or few of the following measures of the performance of the model:\n",
        "\n",
        "* **Accuracy**: This measure gives you a sense of performance for all the classes together as follows:\n",
        "\n",
        "\\begin{equation*} Accuracy=\\frac{Number\\:of\\:correct\\:predictions}{(Total\\:number\\:of\\:data\\:points (samples))} \\end{equation*}\n",
        "\n",
        "In case of binary classification, considering two groups of positive and negative samples, accuracy can be re-written as follows:\n",
        "\n",
        "\\begin{equation*} Accuracy=\\frac{TP+TN}{(TP+TN+FP+FN)} \\end{equation*}\n",
        "\n",
        "Note. In case of imbalance in your classes, even a terrible classifier may result in high accuracy. As an example, assume you have 100 samples, 80 positive and 20 negative. Accuracy of a model that predict every sample is positive could be 0.8:\n",
        "\n",
        "\\begin{equation*} Accuracy=\\frac{80+0}{(80+0+20+0)} = 0.8 \\end{equation*}\n",
        "\n",
        "which can be a model with zero weight for all the features and a positive intercept (constant in the model).\n",
        "\n",
        "* **Confusion matrix (or error matrix)**: True and false classification of the samples in all the classes can be shown in a matrix which is called confusion (or error) matrix. The columsn are usually considered as the actual classes and rows as predicted classes. Hence, the diagonal elements of the matrix will be the total number of true classifcation in each class. \n",
        "\n",
        "In this confusion matrix By definition a confusion matrix  is such that C_ij  is equal to the number of observations known to be in i group  but predicted to be in group j.\n",
        "\n",
        "\n",
        "|N |P\n",
        "--- | ---\n",
        "**N **| TN | FP\n",
        "**P**|FN |  TP"
      ]
    },
    {
      "metadata": {
        "id": "ZSuig7RfPlls",
        "colab_type": "code",
        "outputId": "63d780cd-1f74-4574-977a-0625c35e95e8",
        "colab": {
          "base_uri": "https://localhost:8080/",
          "height": 85
        }
      },
      "cell_type": "code",
      "source": [
        "from sklearn import metrics\n",
        "\n",
        "print(\"accuracy of the predictions:\", metrics.accuracy_score(y_test, y_pred))\n",
        "print(\"Confusion matrix of the predictions:\", metrics.confusion_matrix(y_test, y_pred))"
      ],
      "execution_count": 9,
      "outputs": [
        {
          "output_type": "stream",
          "text": [
            "accuracy of the predictions: 0.9736842105263158\n",
            "Confusion matrix of the predictions:\n",
            " [[ 74   3]\n",
            " [  3 148]]\n"
          ],
          "name": "stdout"
        }
      ]
    },
    {
      "metadata": {
        "id": "WdtraPkEQCa7",
        "colab_type": "text"
      },
      "cell_type": "markdown",
      "source": [
        "\n",
        "\n"
      ]
    },
    {
      "metadata": {
        "id": "1-eAlq3PP2Vs",
        "colab_type": "text"
      },
      "cell_type": "markdown",
      "source": [
        "Testing the model on the testing set:"
      ]
    },
    {
      "metadata": {
        "id": "3xsov-qc-bIE",
        "colab_type": "text"
      },
      "cell_type": "markdown",
      "source": [
        "# Dimentional Reduction\n",
        "\n",
        "## Why is Dimensionality Reduction required?\n",
        "\n",
        "\n",
        "1.   Space required to store the data is reduced as the number of dimensions comes down\n",
        "2.   Less dimensions lead to less computation/training time\n",
        "3.   Some algorithms do not perform well when we have a large dimensions. So reducing these dimensions needs to happen for the algorithm to be useful\n",
        "4.  It takes care of multicollinearity by removing redundant features.\n",
        "5.  It helps in visualizing data. It is very difficult to visualize data in higher dimensions so reducing our space to 2D or 3D may allow us to plot and observe patterns more clearly\n",
        "\n",
        "**Dimensionality reduction can be done in two different ways:**\n",
        "\n",
        "\n",
        "1.   By only keeping the most relevant variables from the original dataset (this technique is called feature selection)\n",
        "2.  By finding a smaller set of new variables, each being a combination of the input variables, containing basically the same information as the input variables (this technique is called dimensionality reduction)\n",
        "\n",
        "**Common Dimensionality Reduction Techniques**\n",
        "\n",
        "*   Principal Component Analysis (PCA)\n",
        "*   Independent Component Analysis\n",
        "*   t- Distributed Stochastic Neighbor Embedding (t-SNE)\n",
        "*   UMAP\n"
      ]
    },
    {
      "metadata": {
        "id": "Fd_EgDP_-n4J",
        "colab_type": "text"
      },
      "cell_type": "markdown",
      "source": [
        "## Principle component analysis (PCA)\n",
        "\n",
        "matplotlib - 2D plotting library producing publication quality figures"
      ]
    },
    {
      "metadata": {
        "id": "52KNK0VF-mac",
        "colab_type": "code",
        "outputId": "bfb71105-1047-4e54-8b87-21d349b93817",
        "colab": {
          "base_uri": "https://localhost:8080/",
          "height": 380
        }
      },
      "cell_type": "code",
      "source": [
        "from sklearn import decomposition\n",
        "import matplotlib.pyplot as plt\n",
        "\n",
        "newData = decomposition.PCA(n_components=2).fit_transform(data.data)\n",
        "\n",
        "plt.scatter(newData[:,0], newData[:,1])\n",
        "plt.xlabel('1st dimension')\n",
        "plt.ylabel('2nd dimension')"
      ],
      "execution_count": 0,
      "outputs": [
        {
          "output_type": "execute_result",
          "data": {
            "text/plain": [
              "<matplotlib.collections.PathCollection at 0x7f5bd3256eb8>"
            ]
          },
          "metadata": {
            "tags": []
          },
          "execution_count": 13
        },
        {
          "output_type": "execute_result",
          "data": {
            "text/plain": [
              "Text(0.5, 0, '1st dimension')"
            ]
          },
          "metadata": {
            "tags": []
          },
          "execution_count": 13
        },
        {
          "output_type": "execute_result",
          "data": {
            "text/plain": [
              "Text(0, 0.5, '2nd dimension')"
            ]
          },
          "metadata": {
            "tags": []
          },
          "execution_count": 13
        },
        {
          "output_type": "display_data",
          "data": {
            "image/png": "[encoded data removed]",
            "text/plain": [
              "<Figure size 576x396 with 1 Axes>"
            ]
          },
          "metadata": {
            "tags": []
          }
        }
      ]
    },
    {
      "metadata": {
        "id": "liWn3aar-c8z",
        "colab_type": "code",
        "colab": {}
      },
      "cell_type": "code",
      "source": [
        "def embedding_plot(X,labels,title):\n",
        "  uniqueNames, indices = np.unique(labels, return_inverse=True)\n",
        "  \n",
        "  plt.scatter(X[:, 0], X[:, 1], c=labels, cmap='Spectral', s=15)\n",
        "  plt.gca().set_facecolor((1, 1, 1))\n",
        "  plt.xlabel('1st dimension')\n",
        "  plt.ylabel('2nd dimension')\n",
        "  plt.grid(False)\n",
        "  plt.colorbar(boundaries=np.arange((len(uniqueNames)+1))-0.5, ticks=np.arange(len(uniqueNames))\n",
        "              ).set_ticklabels(np.ndarray.tolist(uniqueNames))\n",
        "  #plt.legend()\n",
        "  plt.title(title, fontsize=24)"
      ],
      "execution_count": 0,
      "outputs": []
    },
    {
      "metadata": {
        "id": "ih_i8pSN-l4B",
        "colab_type": "code",
        "outputId": "ac74004b-f1d6-4575-8489-370bc0c90aea",
        "colab": {
          "base_uri": "https://localhost:8080/",
          "height": 384
        }
      },
      "cell_type": "code",
      "source": [
        "\n",
        "embedding_plot(newData, data.target,\"PCA\")\n"
      ],
      "execution_count": 0,
      "outputs": [
        {
          "output_type": "display_data",
          "data": {
            "image/png": "[encoded data removed]",
            "text/plain": [
              "<Figure size 576x396 with 2 Axes>"
            ]
          },
          "metadata": {
            "tags": []
          }
        }
      ]
    },
    {
      "metadata": {
        "id": "QPn8NcxOEeVp",
        "colab_type": "text"
      },
      "cell_type": "markdown",
      "source": [
        "#### KNN on reduced dimension data"
      ]
    },
    {
      "metadata": {
        "id": "gUbzGToc-5rG",
        "colab_type": "code",
        "colab": {}
      },
      "cell_type": "code",
      "source": [
        "X_train, X_test, y_train, y_test = train_test_split(newData, data.target, test_size=0.4, random_state=5)\n",
        "\n",
        "new = knn.fit(X_train,y_train)"
      ],
      "execution_count": 0,
      "outputs": []
    },
    {
      "metadata": {
        "id": "2EzcBIPlCUKK",
        "colab_type": "code",
        "outputId": "db1d8114-cce2-42ab-f381-c0cbd7c32eb6",
        "colab": {
          "base_uri": "https://localhost:8080/",
          "height": 34
        }
      },
      "cell_type": "code",
      "source": [
        "y_pred = new.predict(X_test)\n",
        "print(\"accuracy of the predictions:\", metrics.accuracy_score(y_test, y_pred))"
      ],
      "execution_count": 0,
      "outputs": [
        {
          "output_type": "stream",
          "text": [
            "accuracy of the predictions: 0.9692982456140351\n"
          ],
          "name": "stdout"
        }
      ]
    },
    {
      "metadata": {
        "id": "yY3HQEuCC0n3",
        "colab_type": "code",
        "outputId": "8bdb71a8-fce9-4c5a-8178-bd1e32830cec",
        "colab": {
          "base_uri": "https://localhost:8080/",
          "height": 34
        }
      },
      "cell_type": "code",
      "source": [
        "X_test.shape"
      ],
      "execution_count": 0,
      "outputs": [
        {
          "output_type": "execute_result",
          "data": {
            "text/plain": [
              "(228, 2)"
            ]
          },
          "metadata": {
            "tags": []
          },
          "execution_count": 49
        }
      ]
    },
    {
      "metadata": {
        "id": "XOdOMa6aDVMc",
        "colab_type": "code",
        "colab": {}
      },
      "cell_type": "code",
      "source": [
        ""
      ],
      "execution_count": 0,
      "outputs": []
    },
    {
      "metadata": {
        "id": "kcBJyodgvebH",
        "colab_type": "text"
      },
      "cell_type": "markdown",
      "source": [
        "## genomic data "
      ]
    },
    {
      "metadata": {
        "id": "_caN2j0FoR7y",
        "colab_type": "code",
        "colab": {}
      },
      "cell_type": "code",
      "source": [
        "from google.colab import drive\n",
        "drive.mount('/content/gdrive')"
      ],
      "execution_count": 0,
      "outputs": []
    },
    {
      "metadata": {
        "id": "DFtAz0sBpwhH",
        "colab_type": "text"
      },
      "cell_type": "markdown",
      "source": [
        "Build a directory and name it *ML_Python_PMCRT* in your colab directory in google drive. Then upload the two files \"CCLE_ExpMat_Top500Genes.csv\" and \"CCLE_ExpMat_Pheno.csv\" in this directory."
      ]
    },
    {
      "metadata": {
        "id": "F_4iR4uRolYE",
        "colab_type": "code",
        "outputId": "425351c1-6b5b-41ef-b904-52dbaa2eb666",
        "colab": {
          "base_uri": "https://localhost:8080/",
          "height": 67
        }
      },
      "cell_type": "code",
      "source": [
        "import pandas as pd\n",
        "\n",
        "CCLE_exp = pd.read_csv('/content/gdrive/My Drive/Colab Notebooks/CCLE_ExpMat_Top500Genes.csv', index_col=0)\n",
        "CCLE_pheno = pd.read_csv('/content/gdrive/My Drive/Colab Notebooks/CCLE_ExpMat_Pheno.csv', index_col=0)\n",
        "####\n",
        "print(\"shape of the expression dataframe:\", CCLE_exp.shape)\n",
        "print(\"shape of the expression dataframe:\", CCLE_pheno.shape)\n",
        "####\n",
        "CCLE_exp = CCLE_exp.transpose()\n",
        "n_samples, n_features = CCLE_exp.shape\n",
        "\n",
        "\n",
        "CCLE_exp.shape"
      ],
      "execution_count": 0,
      "outputs": [
        {
          "output_type": "stream",
          "text": [
            "shape of the expression dataframe: (500, 550)\n",
            "shape of the expression dataframe: (550, 17)\n"
          ],
          "name": "stdout"
        },
        {
          "output_type": "execute_result",
          "data": {
            "text/plain": [
              "(550, 500)"
            ]
          },
          "metadata": {
            "tags": []
          },
          "execution_count": 17
        }
      ]
    },
    {
      "metadata": {
        "id": "8aIsEu7ecHli",
        "colab_type": "text"
      },
      "cell_type": "markdown",
      "source": [
        "### Let's count how may samples we have for each class (tissue of origin)"
      ]
    },
    {
      "metadata": {
        "id": "zQ2n1Y-yonb9",
        "colab_type": "code",
        "outputId": "d4cf0810-0c92-45bb-a5c4-2c58e584cec9",
        "colab": {
          "base_uri": "https://localhost:8080/",
          "height": 118
        }
      },
      "cell_type": "code",
      "source": [
        "import collections\n",
        "collections.Counter(CCLE_pheno.loc[:,\"tissueid\"])"
      ],
      "execution_count": 0,
      "outputs": [
        {
          "output_type": "execute_result",
          "data": {
            "text/plain": [
              "Counter({'breast': 54,\n",
              "         'central_nervous_system': 49,\n",
              "         'haematopoietic_and_lymphoid_tissue': 170,\n",
              "         'large_intestine': 57,\n",
              "         'lung': 172,\n",
              "         'skin': 48})"
            ]
          },
          "metadata": {
            "tags": []
          },
          "execution_count": 18
        }
      ]
    },
    {
      "metadata": {
        "id": "4f3CgpKypWPO",
        "colab_type": "code",
        "colab": {}
      },
      "cell_type": "code",
      "source": [
        "collections.Counter(np.where(CCLE_pheno.loc[:,\"tissueid\"] == 'breast')[0])"
      ],
      "execution_count": 0,
      "outputs": []
    },
    {
      "metadata": {
        "id": "M9lkO3wgcQJG",
        "colab_type": "text"
      },
      "cell_type": "markdown",
      "source": [
        "We need to echange the class names to numeriz values unique for each class."
      ]
    },
    {
      "metadata": {
        "id": "l1NO4AZWpln4",
        "colab_type": "code",
        "outputId": "2c19d002-bdbd-420d-95ee-c5d32c0c10c8",
        "colab": {
          "base_uri": "https://localhost:8080/",
          "height": 34
        }
      },
      "cell_type": "code",
      "source": [
        "from sklearn import preprocessing\n",
        "le = preprocessing.LabelEncoder()\n",
        "\n",
        "le.fit(CCLE_pheno.loc[:,\"tissueid\"])\n",
        "y=le.transform(CCLE_pheno.loc[:,\"tissueid\"])\n",
        "\n",
        "collections.Counter(y)"
      ],
      "execution_count": 0,
      "outputs": [
        {
          "output_type": "execute_result",
          "data": {
            "text/plain": [
              "LabelEncoder()"
            ]
          },
          "metadata": {
            "tags": []
          },
          "execution_count": 21
        },
        {
          "output_type": "execute_result",
          "data": {
            "text/plain": [
              "Counter({0: 54, 1: 49, 2: 170, 3: 57, 4: 172, 5: 48})"
            ]
          },
          "metadata": {
            "tags": []
          },
          "execution_count": 21
        }
      ]
    },
    {
      "metadata": {
        "id": "kh4dy3b3GIrt",
        "colab_type": "text"
      },
      "cell_type": "markdown",
      "source": [
        "# Installation instructions\n",
        "\n",
        "\n",
        "\n",
        "\n",
        "*   [scikit-learn](https://scikit-learn.org/stable/install.html)\n",
        "*   [Anaconda distribution of Python](https://store.continuum.io/cshop/anaconda/)\n",
        "*   [IPython](http://ipython.org/install.html)\n",
        "\n",
        "\n",
        "\n",
        "\n",
        "\n"
      ]
    },
    {
      "metadata": {
        "id": "4xG9HTM5GM2h",
        "colab_type": "code",
        "colab": {}
      },
      "cell_type": "code",
      "source": [
        ""
      ],
      "execution_count": 0,
      "outputs": []
    }
  ]
}