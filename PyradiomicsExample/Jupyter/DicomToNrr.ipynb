{
 "cells": [
  {
   "cell_type": "markdown",
   "metadata": {},
   "source": [
    "Set the inputFolder in the config.yml and read that "
   ]
  },
  {
   "cell_type": "code",
   "execution_count": 1,
   "metadata": {},
   "outputs": [],
   "source": [
    "import yaml\n",
    "import os\n",
    "import pydicom\n",
    "import numpy as np\n",
    "import dicom2nifti\n",
    "with open(\"config.yml\",'r') as myconfig:\n",
    "    cfg = yaml.load(myconfig)\n",
    "inputImage = cfg['inputDicom']\n",
    "outputImage = cfg['outputDicom']"
   ]
  },
  {
   "cell_type": "code",
   "execution_count": 15,
   "metadata": {},
   "outputs": [],
   "source": [
    "import dicom2nifti\n",
    "patients = os.listdir(inputImage)\n",
    "for patient in patients:\n",
    "        main_folder = inputImage+\"/\"+ patient + \"/\" + patient\n",
    "        mask_folder = inputImage+\"/\"+ patient + \"/\" + patient + \"-MASS\"\n",
    "        if (os.path.isdir(main_folder) and os.path.isdir(mask_folder)):\n",
    "            main_output_path = outputImage +\"/\"+ patient\n",
    "            mask_output_path = outputImage +\"/\"+ patient+ \"-MASS\"\n",
    "            os.makedirs(main_output_path)\n",
    "            os.makedirs(mask_output_path)\n",
    "            dicom2nifti.convert_directory(main_folder, main_output_path)\n",
    "            dicom2nifti.convert_directory(mask_folder, mask_output_path)\n",
    "    \n"
   ]
  },
  {
   "cell_type": "code",
   "execution_count": null,
   "metadata": {},
   "outputs": [],
   "source": [
    "print(folder_path)"
   ]
  },
  {
   "cell_type": "code",
   "execution_count": null,
   "metadata": {},
   "outputs": [],
   "source": []
  },
  {
   "cell_type": "code",
   "execution_count": 42,
   "metadata": {},
   "outputs": [],
   "source": []
  },
  {
   "cell_type": "code",
   "execution_count": null,
   "metadata": {},
   "outputs": [],
   "source": []
  },
  {
   "cell_type": "code",
   "execution_count": null,
   "metadata": {},
   "outputs": [],
   "source": []
  }
 ],
 "metadata": {
  "kernelspec": {
   "display_name": "pyradiom",
   "language": "python",
   "name": "pyradiom"
  },
  "language_info": {
   "codemirror_mode": {
    "name": "ipython",
    "version": 3
   },
   "file_extension": ".py",
   "mimetype": "text/x-python",
   "name": "python",
   "nbconvert_exporter": "python",
   "pygments_lexer": "ipython3",
   "version": "3.6.4"
  }
 },
 "nbformat": 4,
 "nbformat_minor": 2
}
